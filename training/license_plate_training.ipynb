{
 "cells": [
  {
   "cell_type": "markdown",
   "metadata": {},
   "source": [
    "# Notebook Huấn luyện Model Nhận dạng Biển số xe"
   ]
  },
  {
   "cell_type": "markdown",
   "metadata": {},
   "source": [
    "## Chuẩn bị: Kích hoạt GPU\n",
    "Trước khi chạy bất cứ thứ gì, bạn cần đảm bảo đã bật GPU cho notebook này.\n",
    "1. Trên thanh menu, chọn **Runtime**.\n",
    "2. Chọn **Change runtime type**.\n",
    "3. Trong mục `Hardware accelerator`, chọn **GPU**.\n",
    "4. Trong mục `GPU type`, chọn **T4**.\n",
    "5. Nhấn **Save**.\n",
    "\n",
    "Cell code ngay bên dưới sẽ giúp bạn kiểm tra lại thông tin GPU đã nhận được."
   ]
  },
  {
   "cell_type": "code",
   "execution_count": null,
   "metadata": {},
   "outputs": [],
   "source": [
    "!nvidia-smi"
   ]
  },
  {
   "cell_type": "markdown",
   "metadata": {},
   "source": [
    "## 1. Cài đặt Môi trường và Thư viện\n",
    "Bước này sẽ cài đặt các thư viện cần thiết như `ultralytics` cho YOLO và các thư viện phụ trợ khác."
   ]
  },
  {
   "cell_type": "code",
   "execution_count": null,
   "metadata": {},
   "outputs": [],
   "source": [
    "%pip install ultralytics opencv-python pyyaml"
   ]
  },
  {
   "cell_type": "markdown",
   "metadata": {},
   "source": [
    "## 2. Kết nối Google Drive\n",
    "Chúng ta sẽ kết nối với Google Drive để có thể lưu trữ dataset, các file cấu hình, và trọng số (weights) của model đã huấn luyện."
   ]
  },
  {
   "cell_type": "code",
   "execution_count": null,
   "metadata": {},
   "outputs": [],
   "source": [
    "from google.colab import drive\n",
    "drive.mount('/content/drive')"
   ]
  },
  {
   "cell_type": "markdown",
   "metadata": {},
   "source": [
    "## 3. Chuẩn bị Dataset từ file Zip\n",
    "Copy file .zip từ Google Drive sang máy ảo Colab và giải nén. Việc này giúp tăng tốc độ đọc ghi dữ liệu trong quá trình training."
   ]
  },
  {
   "cell_type": "code",
   "execution_count": null,
   "metadata": {},
   "outputs": [],
   "source": [
    "import os\n",
    "\n",
    "os.makedirs('/content/license_plate_dataset', exist_ok=True)\n",
    "\n",
    "!cp /content/drive/MyDrive/projects/license_plate_detection_recognition/training/dataset/LP_detection.zip /content/LP_detection.zip\n",
    "!cp /content/drive/MyDrive/projects/license_plate_detection_recognition/training/dataset/OCR.zip /content/OCR.zip\n",
    "\n",
    "!unzip -q /content/LP_detection.zip -d /content/license_plate_dataset/\n",
    "!unzip -q /content/OCR.zip -d /content/license_plate_dataset/"
   ]
  },
  {
   "cell_type": "markdown",
   "metadata": {},
   "source": [
    "## 4. Tạo file cấu hình `data.yaml`\n",
    "Tạo file `data.yaml` tự động để trỏ đến các thư mục vừa giải nén trên máy ảo Colab."
   ]
  },
  {
   "cell_type": "code",
   "execution_count": null,
   "metadata": {},
   "outputs": [],
   "source": [
    "import yaml\n",
    "\n",
    "data_yaml = {\n",
    "    'train': '/content/license_plate_dataset/LP_detection/images/train',\n",
    "    'val': '/content/license_plate_dataset/LP_detection/images/val',\n",
    "    'nc': 1,\n",
    "    'names': ['license_plate']\n",
    "}\n",
    "\n",
    "with open('/content/data.yaml', 'w') as outfile:\n",
    "    yaml.dump(data_yaml, outfile, default_flow_style=False)\n",
    "\n",
    "%cat /content/data.yaml"
   ]
  },
  {
   "cell_type": "markdown",
   "metadata": {},
   "source": [
    "## 5. Huấn luyện Model YOLO (Detection)\n",
    "Bắt đầu quá trình training với các tham số đã được tối ưu cho GPU T4."
   ]
  },
  {
   "cell_type": "code",
   "execution_count": null,
   "metadata": {},
   "outputs": [],
   "source": [
    "from ultralytics import YOLO\n",
    "\n",
    "# Load a pre-trained model (recommended) or a new model\n",
    "model = YOLO('yolo11n.pt')\n",
    "\n",
    "# Train the model\n",
    "results = model.train(\n",
    "   data='/content/data.yaml',\n",
    "   epochs=100,\n",
    "   imgsz=640,\n",
    "   project='/content/drive/MyDrive/model_license_plate_runs',\n",
    "   name='exp'\n",
    ")"
   ]
  },
  {
   "cell_type": "markdown",
   "metadata": {},
   "source": [
    "## 6. Đánh giá và Sử dụng Model\n",
    "Sau khi training, bạn có thể đánh giá model trên tập validation và sử dụng nó để nhận diện trên ảnh mới."
   ]
  },
  {
   "cell_type": "code",
   "execution_count": null,
   "metadata": {},
   "outputs": [],
   "source": [
    "# Tải model tốt nhất đã được huấn luyện\n",
    "best_model = YOLO('/content/drive/MyDrive/model_license_plate_runs/exp5/weights/last.pt')\n",
    "\n",
    "# Test nhận diện trên một ảnh mới\n",
    "results = best_model('path/to/your/test_image.jpg')\n",
    "\n",
    "# Process results\n",
    "for r in results:\n",
    "    boxes = r.boxes\n",
    "    r.show()"
   ]
  }
 ],
 "metadata": {
  "kernelspec": {
   "display_name": "Python 3",
   "language": "python",
   "name": "python3"
  },
  "language_info": {
   "name": "python",
   "version": "3.10.0"
  }
 },
 "nbformat": 4,
 "nbformat_minor": 4
}
